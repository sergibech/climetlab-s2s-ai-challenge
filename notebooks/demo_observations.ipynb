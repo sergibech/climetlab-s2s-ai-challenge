{
 "cells": [
  {
   "cell_type": "code",
   "execution_count": 1,
   "metadata": {
    "ExecuteTime": {
     "end_time": "2021-03-08T12:51:50.883656Z",
     "start_time": "2021-03-08T12:51:50.881555Z"
    }
   },
   "outputs": [],
   "source": [
    "#! pip install -U climetlab --quiet\n",
    "#! pip install -U climetlab_s2s_ai_challenge --quiet"
   ]
  },
  {
   "cell_type": "code",
   "execution_count": 2,
   "metadata": {
    "ExecuteTime": {
     "end_time": "2021-03-08T12:51:51.541510Z",
     "start_time": "2021-03-08T12:51:51.536658Z"
    },
    "scrolled": true
   },
   "outputs": [
    {
     "name": "stdout",
     "output_type": "stream",
     "text": [
      "Climetlab version : 0.9.1\n",
      "Climetlab-s2s-ai-challenge plugin version : 0.8.1\n"
     ]
    }
   ],
   "source": [
    "import climetlab as cml\n",
    "\n",
    "import climetlab_s2s_ai_challenge\n",
    "\n",
    "print(f\"Climetlab version : {cml.__version__}\")\n",
    "print(f\"Climetlab-s2s-ai-challenge plugin version : {climetlab_s2s_ai_challenge.__version__}\")"
   ]
  },
  {
   "cell_type": "markdown",
   "metadata": {},
   "source": [
    "# Observations data from training"
   ]
  },
  {
   "cell_type": "markdown",
   "metadata": {},
   "source": [
    "Climetlab provides the observation datasets. They can be used as a xarray.Dataset :"
   ]
  },
  {
   "cell_type": "code",
   "execution_count": 3,
   "metadata": {},
   "outputs": [
    {
     "name": "stdout",
     "output_type": "stream",
     "text": [
      "By downloading data from this dataset, you agree to the terms and conditions defined at https://apps.ecmwf.int/datasets/data/s2s/licence/. If you do not agree with such terms, do not download the data. \n",
      " This dataset has been dowloaded from IRIDL. By downloading this data you also agree to the terms and conditions defined at https://iridl.ldeo.columbia.edu.\n"
     ]
    },
    {
     "data": {
      "text/plain": [
       "Coordinates:\n",
       "    valid_time     (lead_time, forecast_time) datetime64[ns] dask.array<chunksize=(47, 20), meta=np.ndarray>\n",
       "  * longitude      (longitude) float64 0.0 1.5 3.0 4.5 ... 355.5 357.0 358.5\n",
       "  * latitude       (latitude) float64 90.0 88.5 87.0 85.5 ... -87.0 -88.5 -90.0\n",
       "  * forecast_time  (forecast_time) datetime64[ns] 2000-01-02 ... 2019-01-02\n",
       "  * lead_time      (lead_time) timedelta64[ns] 0 days 1 days ... 45 days 46 days"
      ]
     },
     "execution_count": 3,
     "metadata": {},
     "output_type": "execute_result"
    }
   ],
   "source": [
    "cmlds = cml.load_dataset(\"s2s-ai-challenge-training-output-reference\", date=20200102, parameter=\"t2m\")\n",
    "cmlds.to_xarray().coords"
   ]
  },
  {
   "cell_type": "markdown",
   "metadata": {},
   "source": [
    "# Observations data like forecast data\n",
    "\n",
    "The hindcast `training-input` for `origin='ncep'` is only available from `forecast_time` 1999 - 2010."
   ]
  },
  {
   "cell_type": "code",
   "execution_count": 4,
   "metadata": {},
   "outputs": [
    {
     "name": "stdout",
     "output_type": "stream",
     "text": [
      "By downloading data from this dataset, you agree to the terms and conditions defined at https://apps.ecmwf.int/datasets/data/s2s/licence/. If you do not agree with such terms, do not download the data. \n"
     ]
    },
    {
     "data": {
      "text/plain": [
       "Coordinates:\n",
       "  * realization    (realization) int64 0 1 2 3\n",
       "  * forecast_time  (forecast_time) datetime64[ns] 1999-01-07 ... 2010-01-07\n",
       "  * lead_time      (lead_time) timedelta64[ns] 1 days 2 days ... 43 days 44 days\n",
       "  * latitude       (latitude) float64 90.0 88.5 87.0 85.5 ... -87.0 -88.5 -90.0\n",
       "  * longitude      (longitude) float64 0.0 1.5 3.0 4.5 ... 355.5 357.0 358.5\n",
       "    valid_time     (forecast_time, lead_time) datetime64[ns] dask.array<chunksize=(12, 44), meta=np.ndarray>"
      ]
     },
     "execution_count": 4,
     "metadata": {},
     "output_type": "execute_result"
    }
   ],
   "source": [
    "forecast = cml.load_dataset(\n",
    "    \"s2s-ai-challenge-training-input\", date=[20100107], origin=\"ncep\", parameter=\"tp\", format=\"netcdf\"\n",
    ").to_xarray()\n",
    "forecast.coords"
   ]
  },
  {
   "cell_type": "markdown",
   "metadata": {},
   "source": [
    "Download `observations` for precipitation flux `pr` (also works for 2m-temperature `t2m`) with a `time` dimension.\n",
    "Use `climetlab_s2s_ai_challenge.extra.forecast_like_observations` to convert like a forecast, which converts `pr` to total precipitation `tp`."
   ]
  },
  {
   "cell_type": "code",
   "execution_count": 5,
   "metadata": {},
   "outputs": [
    {
     "name": "stdout",
     "output_type": "stream",
     "text": [
      "By downloading data from this dataset, you agree to the terms and conditions defined at https://apps.ecmwf.int/datasets/data/s2s/licence/. If you do not agree with such terms, do not download the data. \n",
      " This dataset has been dowloaded from IRIDL. By downloading this data you also agree to the terms and conditions defined at https://iridl.ldeo.columbia.edu.\n"
     ]
    },
    {
     "data": {
      "text/plain": [
       "Coordinates:\n",
       "  * lead_time      (lead_time) timedelta64[ns] 1 days 2 days ... 43 days 44 days\n",
       "    valid_time     (forecast_time, lead_time) datetime64[ns] 1999-01-08 ... 2...\n",
       "  * longitude      (longitude) float64 0.0 1.5 3.0 4.5 ... 355.5 357.0 358.5\n",
       "  * latitude       (latitude) float64 90.0 88.5 87.0 85.5 ... -87.0 -88.5 -90.0\n",
       "  * forecast_time  (forecast_time) datetime64[ns] 1999-01-07 ... 2010-01-07"
      ]
     },
     "execution_count": 5,
     "metadata": {},
     "output_type": "execute_result"
    }
   ],
   "source": [
    "obs_ds = cml.load_dataset(\"s2s-ai-challenge-observations\", parameter=[\"pr\"]).to_xarray()\n",
    "from climetlab_s2s_ai_challenge.extra import forecast_like_observations\n",
    "\n",
    "obs_lead_time_forecast_time = forecast_like_observations(forecast, obs_ds)\n",
    "obs_lead_time_forecast_time.coords"
   ]
  },
  {
   "cell_type": "markdown",
   "metadata": {},
   "source": [
    "This is equivalent to `.to_xarray(like=forecast)`."
   ]
  },
  {
   "cell_type": "code",
   "execution_count": 6,
   "metadata": {},
   "outputs": [],
   "source": [
    "obs_like = cml.load_dataset(\"s2s-ai-challenge-observations\", parameter=[\"pr\"]).to_xarray(like=forecast)"
   ]
  },
  {
   "cell_type": "code",
   "execution_count": 7,
   "metadata": {},
   "outputs": [],
   "source": [
    "import xarray\n",
    "\n",
    "xarray.testing.assert_equal(obs_like, obs_lead_time_forecast_time)"
   ]
  },
  {
   "cell_type": "markdown",
   "metadata": {},
   "source": [
    "> Note that you can use this with any initialized forecast `xr.Dataset` with coordinate `valid_time(forecast_time, lead_time)`,\n",
    "> i.e. any initialized NMME, SubX or S2S output"
   ]
  },
  {
   "cell_type": "code",
   "execution_count": null,
   "metadata": {},
   "outputs": [],
   "source": []
  }
 ],
 "metadata": {
  "kernelspec": {
   "display_name": "Python 3 (ipykernel)",
   "language": "python",
   "name": "python3"
  },
  "language_info": {
   "codemirror_mode": {
    "name": "ipython",
    "version": 3
   },
   "file_extension": ".py",
   "mimetype": "text/x-python",
   "name": "python",
   "nbconvert_exporter": "python",
   "pygments_lexer": "ipython3",
   "version": "3.8.10"
  },
  "toc": {
   "base_numbering": 1,
   "nav_menu": {},
   "number_sections": true,
   "sideBar": true,
   "skip_h1_title": false,
   "title_cell": "Table of Contents",
   "title_sidebar": "Contents",
   "toc_cell": false,
   "toc_position": {
    "height": "calc(100% - 180px)",
    "left": "10px",
    "top": "150px",
    "width": "378.4px"
   },
   "toc_section_display": true,
   "toc_window_display": true
  }
 },
 "nbformat": 4,
 "nbformat_minor": 4
}
